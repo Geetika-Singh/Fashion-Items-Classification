{
 "cells": [
  {
   "cell_type": "markdown",
   "id": "3cf66686",
   "metadata": {},
   "source": [
    "CNN model for multi-class image classification of fashiom items"
   ]
  },
  {
   "cell_type": "code",
   "execution_count": 1,
   "id": "87342e93",
   "metadata": {},
   "outputs": [],
   "source": [
    "import numpy as np\n",
    "import pandas as pd\n",
    "%matplotlib inline\n",
    "import matplotlib.pyplot as plt\n",
    "import tensorflow as tf\n",
    "from tensorflow import keras"
   ]
  },
  {
   "cell_type": "code",
   "execution_count": 5,
   "id": "951bbcfc",
   "metadata": {},
   "outputs": [],
   "source": [
    "from keras.datasets import fashion_mnist\n",
    "# alternative syntax: df = keras.datasets.fashion_mnist\n",
    "(x_train_full,y_train_full),(x_test,y_test) = fashion_mnist.load_data()"
   ]
  },
  {
   "cell_type": "code",
   "execution_count": null,
   "id": "e5b0c2c9",
   "metadata": {},
   "outputs": [],
   "source": [
    "plt.imshow(x_train_full[6]) # will output a matrix of 28x28 dimensions.\n",
    "# the grayscale images in the dataset are of 28x28 pixels.\n",
    "# 0 represents black & 255 represents white. \n",
    "# for each record, we have 28x28=784 values. "
   ]
  },
  {
   "cell_type": "code",
   "execution_count": null,
   "id": "05fbe819",
   "metadata": {},
   "outputs": [],
   "source": [
    "y_train_full[6]"
   ]
  },
  {
   "cell_type": "code",
   "execution_count": 6,
   "id": "f6a44c32",
   "metadata": {},
   "outputs": [],
   "source": [
    "class_names = [\"T-shirt/Top\",\"Trouser\",\"Pullover\",\"Dress\",\"Coat\",\n",
    "               \"Sandal\",\"Shirt\",\"Sneaker\",\"Bag\",\"Ankle Boot\"]"
   ]
  },
  {
   "cell_type": "code",
   "execution_count": null,
   "id": "a4720e73",
   "metadata": {},
   "outputs": [],
   "source": [
    "class_names[y_train_full[6]]"
   ]
  },
  {
   "cell_type": "code",
   "execution_count": 7,
   "id": "f62c65fa",
   "metadata": {},
   "outputs": [
    {
     "name": "stdout",
     "output_type": "stream",
     "text": [
      "(60000, 28, 28) \n",
      " (60000,) \n",
      " (10000, 28, 28) \n",
      " (10000,)\n"
     ]
    }
   ],
   "source": [
    "print(x_train_full.shape,\"\\n\",y_train_full.shape,\"\\n\",x_test.shape,\"\\n\",y_test.shape)"
   ]
  },
  {
   "cell_type": "markdown",
   "id": "ba9275f1",
   "metadata": {},
   "source": [
    "## Data Reshape"
   ]
  },
  {
   "cell_type": "markdown",
   "id": "ae0a0d26",
   "metadata": {},
   "source": [
    "This is the only change that we do during the pre-processing of CNN as compared to ANN. <br> In ANN we converted the 2D grayscale images into 1D array using flatten() method. <br> For CNN, we need a 3D array as input. We need height, width & channel. "
   ]
  },
  {
   "cell_type": "code",
   "execution_count": 8,
   "id": "8aea72b8",
   "metadata": {},
   "outputs": [],
   "source": [
    "x_train_full = x_train_full.reshape((60000,28,28,1)) # 1 stands for channel.\n",
    "x_test = x_test.reshape((10000,28,28,1))"
   ]
  },
  {
   "cell_type": "markdown",
   "id": "1bfe2827",
   "metadata": {},
   "source": [
    "## Data Normalisation\n",
    "so that the data dimensions are of approximately the same scale. normalisation means restricting the pixel entities btw 0 & 1. "
   ]
  },
  {
   "cell_type": "code",
   "execution_count": 9,
   "id": "e7c7a1cf",
   "metadata": {},
   "outputs": [],
   "source": [
    "# Divide by float to get output in float\n",
    "x_train_norm = x_train_full/255.0\n",
    "x_test_norm = x_test/255.0"
   ]
  },
  {
   "cell_type": "markdown",
   "id": "6f1ed44d",
   "metadata": {},
   "source": [
    "## Train-Val-Test Split\n",
    "validation dataset is used for tuning the hyperparameters & to evaluate the model.<br>\n",
    "We have 60,000 records in train dataset & 10,000 records in test dataset. "
   ]
  },
  {
   "cell_type": "code",
   "execution_count": 10,
   "id": "be832c7e",
   "metadata": {},
   "outputs": [],
   "source": [
    "x_val, x_train = x_train_norm[:5000], x_train_norm[5000:]\n",
    "y_val, y_train = y_train_full[:5000], y_train_full[5000:]\n",
    "x_test = x_test_norm"
   ]
  },
  {
   "cell_type": "markdown",
   "id": "da3affa4",
   "metadata": {},
   "source": [
    "#### To delete previous model"
   ]
  },
  {
   "cell_type": "code",
   "execution_count": 27,
   "id": "1209acb2",
   "metadata": {},
   "outputs": [],
   "source": [
    "del model\n",
    "keras.backend.clear_session()"
   ]
  },
  {
   "cell_type": "markdown",
   "id": "760c804e",
   "metadata": {},
   "source": [
    "## Model Structure/ Architecture & Compile"
   ]
  },
  {
   "cell_type": "code",
   "execution_count": 11,
   "id": "3cad589c",
   "metadata": {},
   "outputs": [],
   "source": [
    "np.random.seed(42)\n",
    "tf.random.set_seed(42)"
   ]
  },
  {
   "cell_type": "markdown",
   "id": "a600286a",
   "metadata": {},
   "source": [
    "The dataset has observations in the form of 2D array of 28x28 pixels. <br>\n",
    "Step1: Use Keras Sequential API to build the NN. <br>\n",
    "Step2: Add a Convolutional Base & feed it into the input layer.<br>\n",
    "Step3: Convert 2D array into flat 1D array of 784 pixels.  <br>\n",
    "Step4: Use ReLU Activation for Hidden Layers. <br>\n",
    "Step5: Use Softmax Avtivation on Output Layer as it is a multiclass classification. <br>"
   ]
  },
  {
   "cell_type": "code",
   "execution_count": 12,
   "id": "5f3606ea",
   "metadata": {},
   "outputs": [],
   "source": [
    "model = keras.models.Sequential()\n",
    "model.add(keras.layers.Conv2D(filters=32, kernel_size=(3,3), strides=1, padding='valid', \n",
    "                             activation='relu', input_shape=(28,28,1)))\n",
    "model.add(keras.layers.MaxPooling2D((2,2)))\n",
    "\n",
    "model.add(keras.layers.Flatten())\n",
    "model.add(keras.layers.Dense(300, activation='relu'))\n",
    "model.add(keras.layers.Dense(100, activation='relu'))\n",
    "model.add(keras.layers.Dense(10, activation='softmax'))\n",
    "\n",
    "model.compile(optimizer = \"sgd\",\n",
    "              loss = \"sparse_categorical_crossentropy\",\n",
    "              metrics = ['accuracy'])"
   ]
  },
  {
   "cell_type": "markdown",
   "id": "347036a5",
   "metadata": {},
   "source": [
    "We are using sparse categorical crossentropy because our y_data is in form of 10 diff labels. <br>\n",
    "If we had binary labels (True/false, Yes/no), then we would use binary crossentropy. <br>\n",
    "If we had probabilities per class in y_data, then we would use categorical crossentropy.<br>\n",
    "SGD - Stochastic Gradient Descent. Keras will perform back propagation algo here. <br>\n",
    "Because, we are building a classifier, we are using Accuracy as metrics. <br>\n",
    "If we are building a regressor, we would use Mean Square Error"
   ]
  },
  {
   "cell_type": "code",
   "execution_count": 20,
   "id": "bc02aae3",
   "metadata": {
    "collapsed": true
   },
   "outputs": [
    {
     "name": "stdout",
     "output_type": "stream",
     "text": [
      "Model: \"sequential\"\n",
      "_________________________________________________________________\n",
      " Layer (type)                Output Shape              Param #   \n",
      "=================================================================\n",
      " conv2d (Conv2D)             (None, 26, 26, 32)        320       \n",
      "                                                                 \n",
      " max_pooling2d (MaxPooling2  (None, 13, 13, 32)        0         \n",
      " D)                                                              \n",
      "                                                                 \n",
      " flatten (Flatten)           (None, 5408)              0         \n",
      "                                                                 \n",
      " dense (Dense)               (None, 300)               1622700   \n",
      "                                                                 \n",
      " dense_1 (Dense)             (None, 100)               30100     \n",
      "                                                                 \n",
      " dense_2 (Dense)             (None, 10)                1010      \n",
      "                                                                 \n",
      "=================================================================\n",
      "Total params: 1654130 (6.31 MB)\n",
      "Trainable params: 1654130 (6.31 MB)\n",
      "Non-trainable params: 0 (0.00 Byte)\n",
      "_________________________________________________________________\n"
     ]
    }
   ],
   "source": [
    "model.summary()"
   ]
  },
  {
   "cell_type": "markdown",
   "id": "23d85e02",
   "metadata": {},
   "source": [
    "### Diagrammatic representation of model structure"
   ]
  },
  {
   "cell_type": "code",
   "execution_count": null,
   "id": "a2151ded",
   "metadata": {},
   "outputs": [],
   "source": [
    "import pydot\n",
    "keras.utils.plot_model(model)"
   ]
  },
  {
   "cell_type": "code",
   "execution_count": null,
   "id": "ea6fa7c2",
   "metadata": {},
   "outputs": [],
   "source": [
    "weights, biases = model.layers[1].get_weights()"
   ]
  },
  {
   "cell_type": "code",
   "execution_count": null,
   "id": "e92134dc",
   "metadata": {},
   "outputs": [],
   "source": [
    "weights.shape"
   ]
  },
  {
   "cell_type": "code",
   "execution_count": null,
   "id": "ba515e26",
   "metadata": {},
   "outputs": [],
   "source": [
    "biases.shape"
   ]
  },
  {
   "cell_type": "markdown",
   "id": "dc1d9d11",
   "metadata": {},
   "source": [
    "### Early Stopping Checkpoint & Callback"
   ]
  },
  {
   "cell_type": "code",
   "execution_count": 22,
   "id": "a44b494b",
   "metadata": {},
   "outputs": [],
   "source": [
    "checkpoint_cb = keras.callbacks.ModelCheckpoint(\"Fashion_Images_Model.h5\", save_best_only=True)\n",
    "early_stopping_cb = keras.callbacks.EarlyStopping(patience=3, restore_best_weights=True)"
   ]
  },
  {
   "cell_type": "markdown",
   "id": "3f9ce596",
   "metadata": {},
   "source": [
    "## Train"
   ]
  },
  {
   "cell_type": "code",
   "execution_count": null,
   "id": "ae084c87",
   "metadata": {},
   "outputs": [],
   "source": [
    "history = model.fit(x_train, y_train, epochs=200, batch_size=64, \n",
    "                    validation_data=(x_val, y_val), \n",
    "                    callbacks = [checkpoint_cb, early_stopping_cb])"
   ]
  },
  {
   "cell_type": "code",
   "execution_count": null,
   "id": "1138a2ca",
   "metadata": {},
   "outputs": [],
   "source": [
    "history.params"
   ]
  },
  {
   "cell_type": "code",
   "execution_count": null,
   "id": "6cf18b94",
   "metadata": {},
   "outputs": [],
   "source": [
    "history.history"
   ]
  },
  {
   "cell_type": "code",
   "execution_count": null,
   "id": "7fd9a452",
   "metadata": {},
   "outputs": [],
   "source": [
    "pd.DataFrame(history.history).plot(figsize=(8,5))\n",
    "plt.grid(True)\n",
    "plt.gca().set_ylim(0,1)\n",
    "plt.show()"
   ]
  },
  {
   "cell_type": "markdown",
   "id": "d3e56486",
   "metadata": {},
   "source": [
    "the model has not converged yet because the val_accuracy is still going up & val_loss is still going low. so, we can run it for more epochs. if we call the fit() method again, Keras will continue to train the model where we previously left it. "
   ]
  },
  {
   "cell_type": "markdown",
   "id": "069db722",
   "metadata": {},
   "source": [
    "### Load the best model & evaluate on test set"
   ]
  },
  {
   "cell_type": "code",
   "execution_count": 13,
   "id": "e569694e",
   "metadata": {},
   "outputs": [
    {
     "name": "stdout",
     "output_type": "stream",
     "text": [
      "313/313 [==============================] - 2s 7ms/step - loss: 0.3313 - accuracy: 0.8809\n"
     ]
    },
    {
     "data": {
      "text/plain": [
       "[0.3313138782978058, 0.8809000253677368]"
      ]
     },
     "execution_count": 13,
     "metadata": {},
     "output_type": "execute_result"
    }
   ],
   "source": [
    "model = keras.models.load_model(\"Fashion_Images_Model.h5\")\n",
    "model.evaluate(x_test,y_test)"
   ]
  },
  {
   "cell_type": "markdown",
   "id": "03e9bf01",
   "metadata": {},
   "source": [
    "### Predict the class labels in test set"
   ]
  },
  {
   "cell_type": "code",
   "execution_count": 14,
   "id": "d495647f",
   "metadata": {},
   "outputs": [
    {
     "name": "stdout",
     "output_type": "stream",
     "text": [
      "1/1 [==============================] - 0s 88ms/step\n"
     ]
    },
    {
     "data": {
      "text/plain": [
       "array([[0.  , 0.  , 0.  , 0.  , 0.  , 0.03, 0.  , 0.2 , 0.  , 0.77],\n",
       "       [0.  , 0.  , 0.99, 0.  , 0.  , 0.  , 0.  , 0.  , 0.  , 0.  ],\n",
       "       [0.  , 1.  , 0.  , 0.  , 0.  , 0.  , 0.  , 0.  , 0.  , 0.  ]],\n",
       "      dtype=float32)"
      ]
     },
     "execution_count": 14,
     "metadata": {},
     "output_type": "execute_result"
    }
   ],
   "source": [
    "y_proba = model.predict(x_test[:3])\n",
    "y_proba.round(2)"
   ]
  },
  {
   "cell_type": "markdown",
   "id": "5a279eb6",
   "metadata": {},
   "source": [
    "x_test contains 3 records, so we will get output for 3 records & there are 10 values for each record representing the probability for corresponding class. <br>\n",
    "round(2) is to round off probability values to 2 decimal digits."
   ]
  },
  {
   "cell_type": "code",
   "execution_count": 15,
   "id": "f211333b",
   "metadata": {},
   "outputs": [
    {
     "name": "stdout",
     "output_type": "stream",
     "text": [
      "1/1 [==============================] - 0s 18ms/step\n",
      "['Ankle Boot' 'Pullover' 'Trouser' 'Trouser' 'Shirt']\n"
     ]
    }
   ],
   "source": [
    "y_pred = np.argmax(model.predict(x_test[:5]),axis=1)\n",
    "print(np.array(class_names)[y_pred])"
   ]
  },
  {
   "cell_type": "code",
   "execution_count": 16,
   "id": "26c6ec2a",
   "metadata": {},
   "outputs": [
    {
     "data": {
      "text/plain": [
       "array([9, 2, 1, 1, 6], dtype=uint8)"
      ]
     },
     "execution_count": 16,
     "metadata": {},
     "output_type": "execute_result"
    }
   ],
   "source": [
    "y_test[:5]"
   ]
  },
  {
   "cell_type": "code",
   "execution_count": 17,
   "id": "52be59e6",
   "metadata": {},
   "outputs": [
    {
     "data": {
      "text/plain": [
       "<matplotlib.image.AxesImage at 0x1efa5460c90>"
      ]
     },
     "execution_count": 17,
     "metadata": {},
     "output_type": "execute_result"
    },
    {
     "data": {
      "image/png": "[encoded data removed]",
      "text/plain": [
       "<Figure size 640x480 with 1 Axes>"
      ]
     },
     "metadata": {},
     "output_type": "display_data"
    }
   ],
   "source": [
    "plt.imshow(x_test[0].reshape((28,28)))"
   ]
  },
  {
   "cell_type": "code",
   "execution_count": null,
   "id": "84a48a70",
   "metadata": {},
   "outputs": [],
   "source": []
  }
 ],
 "metadata": {
  "kernelspec": {
   "display_name": "Python 3 (ipykernel)",
   "language": "python",
   "name": "python3"
  },
  "language_info": {
   "codemirror_mode": {
    "name": "ipython",
    "version": 3
   },
   "file_extension": ".py",
   "mimetype": "text/x-python",
   "name": "python",
   "nbconvert_exporter": "python",
   "pygments_lexer": "ipython3",
   "version": "3.11.4"
  }
 },
 "nbformat": 4,
 "nbformat_minor": 5
}
